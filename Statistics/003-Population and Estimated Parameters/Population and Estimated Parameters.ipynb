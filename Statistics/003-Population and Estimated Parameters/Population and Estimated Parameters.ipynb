{
 "cells": [
  {
   "cell_type": "code",
   "execution_count": 27,
   "metadata": {},
   "outputs": [],
   "source": [
    "import numpy as np\n",
    "# mean is 20\n",
    "\n",
    "mu = 20\n",
    "\n"
   ]
  },
  {
   "cell_type": "code",
   "execution_count": 2,
   "metadata": {},
   "outputs": [],
   "source": [
    "# standard deviation is 10 - tells how the data are spread around the mean\n",
    "\n",
    "std = 10"
   ]
  },
  {
   "cell_type": "code",
   "execution_count": 4,
   "metadata": {},
   "outputs": [
    {
     "data": {
      "text/plain": [
       "0.16"
      ]
     },
     "execution_count": 4,
     "metadata": {},
     "output_type": "execute_result"
    }
   ],
   "source": [
    "# What is the probability of a cell having 30 or more transcripts for Gene X?\n",
    "\n",
    "# Calculate the Area Under the Curve (AUC) for all values equal to or greater than 30 / Total Area Under the Curve\n",
    "\n",
    "prob = 0.16/1\n",
    "prob"
   ]
  },
  {
   "cell_type": "code",
   "execution_count": 5,
   "metadata": {},
   "outputs": [],
   "source": [
    "# Mean and std deviation are population parameters\n",
    "\n",
    "# Population Mean\n",
    "# Population Std Deviation"
   ]
  },
  {
   "cell_type": "code",
   "execution_count": 6,
   "metadata": {},
   "outputs": [],
   "source": [
    "# Normal distribution is different to Exponential Distribution\n",
    "# Both can be used to calculate population estimates"
   ]
  },
  {
   "cell_type": "code",
   "execution_count": 7,
   "metadata": {},
   "outputs": [],
   "source": [
    "# Gamma distribution (left-skewed) can also use its shape and rate population parameters to calculate values in the population"
   ]
  },
  {
   "cell_type": "code",
   "execution_count": 8,
   "metadata": {},
   "outputs": [],
   "source": [
    "# Usually we don't have a total population, but a sample"
   ]
  },
  {
   "cell_type": "code",
   "execution_count": 9,
   "metadata": {},
   "outputs": [],
   "source": [
    "# From the sample, we want to estimate the population parameters\n",
    "\n",
    "# Sample is like the training data set - the whole population curve is what we want to predict"
   ]
  },
  {
   "cell_type": "code",
   "execution_count": 13,
   "metadata": {},
   "outputs": [],
   "source": [
    "# Each run through of the experiment leads to different estimates for the population parameters \n",
    "# (small sample means bigger error)"
   ]
  },
  {
   "cell_type": "code",
   "execution_count": 12,
   "metadata": {},
   "outputs": [],
   "source": [
    "# More data = more confidence in the accuracy - we want to quantify this confidence (p-value and confidence intervals)"
   ]
  },
  {
   "cell_type": "code",
   "execution_count": 31,
   "metadata": {},
   "outputs": [],
   "source": [
    "# calculate standard deviation\n",
    "\n",
    "\n",
    "values = [2,3,4,5,6] # values in a population\n",
    " "
   ]
  },
  {
   "cell_type": "code",
   "execution_count": 33,
   "metadata": {},
   "outputs": [
    {
     "data": {
      "text/plain": [
       "4.0"
      ]
     },
     "execution_count": 33,
     "metadata": {},
     "output_type": "execute_result"
    }
   ],
   "source": [
    "mu = sum(values)/len(values) # mean\n",
    "mu"
   ]
  },
  {
   "cell_type": "code",
   "execution_count": 20,
   "metadata": {},
   "outputs": [
    {
     "data": {
      "text/plain": [
       "5"
      ]
     },
     "execution_count": 20,
     "metadata": {},
     "output_type": "execute_result"
    }
   ],
   "source": [
    "N = len(values) # number of values\n",
    "N"
   ]
  },
  {
   "cell_type": "code",
   "execution_count": 35,
   "metadata": {},
   "outputs": [
    {
     "name": "stdout",
     "output_type": "stream",
     "text": [
      "-2.0 4.0 4.0\n",
      "-1.0 1.0 5.0\n",
      "0.0 0.0 5.0\n",
      "1.0 1.0 6.0\n",
      "2.0 4.0 10.0\n",
      "1.4142135623730951\n"
     ]
    }
   ],
   "source": [
    "variance = 0\n",
    "sq_var = 0\n",
    "sum_sq_var = 0\n",
    "sum_sq_var = 0\n",
    "for val in values:\n",
    "    variance = val - mu\n",
    "    sq_var = variance * variance\n",
    "    sum_sq_var += sq_var\n",
    "    print(variance, sq_var, sum_sq_var)\n",
    "std = np.sqrt(sum_sq_var / N)\n",
    "print(std)"
   ]
  }
 ],
 "metadata": {
  "kernelspec": {
   "display_name": "Python 3",
   "language": "python",
   "name": "python3"
  },
  "language_info": {
   "codemirror_mode": {
    "name": "ipython",
    "version": 3
   },
   "file_extension": ".py",
   "mimetype": "text/x-python",
   "name": "python",
   "nbconvert_exporter": "python",
   "pygments_lexer": "ipython3",
   "version": "3.8.0"
  }
 },
 "nbformat": 4,
 "nbformat_minor": 4
}
