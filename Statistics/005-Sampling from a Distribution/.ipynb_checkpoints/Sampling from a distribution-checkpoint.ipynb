{
 "cells": [
  {
   "cell_type": "markdown",
   "metadata": {},
   "source": [
    "# Why take a sample from a distribution?"
   ]
  },
  {
   "cell_type": "markdown",
   "metadata": {},
   "source": [
    "To explore statistics"
   ]
  },
  {
   "cell_type": "markdown",
   "metadata": {},
   "source": [
    "If two samples are taken from the same distribution, a t-test on those samples should have a large p-value"
   ]
  },
  {
   "cell_type": "markdown",
   "metadata": {},
   "source": [
    "If two samples are taken from a different distribution, a t-test on those samples should have a small p-value"
   ]
  },
  {
   "cell_type": "markdown",
   "metadata": {},
   "source": [
    "Repeating this sampling and analysing the resulting p-values can indicate whether a sample size is large enough"
   ]
  },
  {
   "cell_type": "markdown",
   "metadata": {},
   "source": [
    "## Testing it out with data"
   ]
  },
  {
   "cell_type": "code",
   "execution_count": 60,
   "metadata": {},
   "outputs": [],
   "source": [
    "# import libraries\n",
    "import pandas as pd\n",
    "import numpy as np\n",
    "import random\n",
    "import matplotlib.pyplot as plt\n",
    "from scipy.stats import norm, stats"
   ]
  },
  {
   "cell_type": "code",
   "execution_count": 43,
   "metadata": {},
   "outputs": [],
   "source": [
    "# read in csv data from ONS\n",
    "df = pd.read_csv(r'C:\\Users\\mike_\\dev\\DataScienceMathsWithPython\\Statistics\\000-Data sources\\ONS_Regional.csv', skiprows=2, encoding= 'unicode_escape')"
   ]
  },
  {
   "cell_type": "code",
   "execution_count": 44,
   "metadata": {},
   "outputs": [],
   "source": [
    "# check out average life satisfaction rating\n",
    "df_sats = df[df['Indicator'] == 'Average life satisfaction rating']"
   ]
  },
  {
   "cell_type": "code",
   "execution_count": 45,
   "metadata": {},
   "outputs": [
    {
     "data": {
      "text/html": [
       "<div>\n",
       "<style scoped>\n",
       "    .dataframe tbody tr th:only-of-type {\n",
       "        vertical-align: middle;\n",
       "    }\n",
       "\n",
       "    .dataframe tbody tr th {\n",
       "        vertical-align: top;\n",
       "    }\n",
       "\n",
       "    .dataframe thead th {\n",
       "        text-align: right;\n",
       "    }\n",
       "</style>\n",
       "<table border=\"1\" class=\"dataframe\">\n",
       "  <thead>\n",
       "    <tr style=\"text-align: right;\">\n",
       "      <th></th>\n",
       "      <th>AREACD</th>\n",
       "      <th>AREANM</th>\n",
       "      <th>Tier</th>\n",
       "      <th>Indicator</th>\n",
       "      <th>Category</th>\n",
       "      <th>Period</th>\n",
       "      <th>Measure</th>\n",
       "      <th>Unit</th>\n",
       "      <th>Value</th>\n",
       "    </tr>\n",
       "  </thead>\n",
       "  <tbody>\n",
       "    <tr>\n",
       "      <th>4342</th>\n",
       "      <td>E06000001</td>\n",
       "      <td>Hartlepool</td>\n",
       "      <td>District/Unitary</td>\n",
       "      <td>Average life satisfaction rating</td>\n",
       "      <td>Spreading opportunity and improving public ser...</td>\n",
       "      <td>04/2020 - 03/2021</td>\n",
       "      <td>Rating</td>\n",
       "      <td>NaN</td>\n",
       "      <td>7.33</td>\n",
       "    </tr>\n",
       "    <tr>\n",
       "      <th>4343</th>\n",
       "      <td>E06000002</td>\n",
       "      <td>Middlesbrough</td>\n",
       "      <td>District/Unitary</td>\n",
       "      <td>Average life satisfaction rating</td>\n",
       "      <td>Spreading opportunity and improving public ser...</td>\n",
       "      <td>04/2020 - 03/2021</td>\n",
       "      <td>Rating</td>\n",
       "      <td>NaN</td>\n",
       "      <td>7.21</td>\n",
       "    </tr>\n",
       "    <tr>\n",
       "      <th>4344</th>\n",
       "      <td>E06000003</td>\n",
       "      <td>Redcar and Cleveland</td>\n",
       "      <td>District/Unitary</td>\n",
       "      <td>Average life satisfaction rating</td>\n",
       "      <td>Spreading opportunity and improving public ser...</td>\n",
       "      <td>04/2020 - 03/2021</td>\n",
       "      <td>Rating</td>\n",
       "      <td>NaN</td>\n",
       "      <td>7.44</td>\n",
       "    </tr>\n",
       "    <tr>\n",
       "      <th>4345</th>\n",
       "      <td>E06000004</td>\n",
       "      <td>Stockton-on-Tees</td>\n",
       "      <td>District/Unitary</td>\n",
       "      <td>Average life satisfaction rating</td>\n",
       "      <td>Spreading opportunity and improving public ser...</td>\n",
       "      <td>04/2020 - 03/2021</td>\n",
       "      <td>Rating</td>\n",
       "      <td>NaN</td>\n",
       "      <td>7.40</td>\n",
       "    </tr>\n",
       "    <tr>\n",
       "      <th>4346</th>\n",
       "      <td>E06000005</td>\n",
       "      <td>Darlington</td>\n",
       "      <td>District/Unitary</td>\n",
       "      <td>Average life satisfaction rating</td>\n",
       "      <td>Spreading opportunity and improving public ser...</td>\n",
       "      <td>04/2020 - 03/2021</td>\n",
       "      <td>Rating</td>\n",
       "      <td>NaN</td>\n",
       "      <td>7.25</td>\n",
       "    </tr>\n",
       "    <tr>\n",
       "      <th>...</th>\n",
       "      <td>...</td>\n",
       "      <td>...</td>\n",
       "      <td>...</td>\n",
       "      <td>...</td>\n",
       "      <td>...</td>\n",
       "      <td>...</td>\n",
       "      <td>...</td>\n",
       "      <td>...</td>\n",
       "      <td>...</td>\n",
       "    </tr>\n",
       "    <tr>\n",
       "      <th>4719</th>\n",
       "      <td>W06000020</td>\n",
       "      <td>Torfaen</td>\n",
       "      <td>District/Unitary</td>\n",
       "      <td>Average life satisfaction rating</td>\n",
       "      <td>Spreading opportunity and improving public ser...</td>\n",
       "      <td>04/2020 - 03/2021</td>\n",
       "      <td>Rating</td>\n",
       "      <td>NaN</td>\n",
       "      <td>7.34</td>\n",
       "    </tr>\n",
       "    <tr>\n",
       "      <th>4720</th>\n",
       "      <td>W06000021</td>\n",
       "      <td>Monmouthshire</td>\n",
       "      <td>District/Unitary</td>\n",
       "      <td>Average life satisfaction rating</td>\n",
       "      <td>Spreading opportunity and improving public ser...</td>\n",
       "      <td>04/2020 - 03/2021</td>\n",
       "      <td>Rating</td>\n",
       "      <td>NaN</td>\n",
       "      <td>7.59</td>\n",
       "    </tr>\n",
       "    <tr>\n",
       "      <th>4721</th>\n",
       "      <td>W06000022</td>\n",
       "      <td>Newport</td>\n",
       "      <td>District/Unitary</td>\n",
       "      <td>Average life satisfaction rating</td>\n",
       "      <td>Spreading opportunity and improving public ser...</td>\n",
       "      <td>04/2020 - 03/2021</td>\n",
       "      <td>Rating</td>\n",
       "      <td>NaN</td>\n",
       "      <td>7.28</td>\n",
       "    </tr>\n",
       "    <tr>\n",
       "      <th>4722</th>\n",
       "      <td>W06000023</td>\n",
       "      <td>Powys</td>\n",
       "      <td>District/Unitary</td>\n",
       "      <td>Average life satisfaction rating</td>\n",
       "      <td>Spreading opportunity and improving public ser...</td>\n",
       "      <td>04/2020 - 03/2021</td>\n",
       "      <td>Rating</td>\n",
       "      <td>NaN</td>\n",
       "      <td>7.42</td>\n",
       "    </tr>\n",
       "    <tr>\n",
       "      <th>4723</th>\n",
       "      <td>W06000024</td>\n",
       "      <td>Merthyr Tydfil</td>\n",
       "      <td>District/Unitary</td>\n",
       "      <td>Average life satisfaction rating</td>\n",
       "      <td>Spreading opportunity and improving public ser...</td>\n",
       "      <td>04/2020 - 03/2021</td>\n",
       "      <td>Rating</td>\n",
       "      <td>NaN</td>\n",
       "      <td>7.33</td>\n",
       "    </tr>\n",
       "  </tbody>\n",
       "</table>\n",
       "<p>382 rows × 9 columns</p>\n",
       "</div>"
      ],
      "text/plain": [
       "         AREACD                AREANM              Tier  \\\n",
       "4342  E06000001            Hartlepool  District/Unitary   \n",
       "4343  E06000002         Middlesbrough  District/Unitary   \n",
       "4344  E06000003  Redcar and Cleveland  District/Unitary   \n",
       "4345  E06000004      Stockton-on-Tees  District/Unitary   \n",
       "4346  E06000005            Darlington  District/Unitary   \n",
       "...         ...                   ...               ...   \n",
       "4719  W06000020               Torfaen  District/Unitary   \n",
       "4720  W06000021         Monmouthshire  District/Unitary   \n",
       "4721  W06000022               Newport  District/Unitary   \n",
       "4722  W06000023                 Powys  District/Unitary   \n",
       "4723  W06000024        Merthyr Tydfil  District/Unitary   \n",
       "\n",
       "                             Indicator  \\\n",
       "4342  Average life satisfaction rating   \n",
       "4343  Average life satisfaction rating   \n",
       "4344  Average life satisfaction rating   \n",
       "4345  Average life satisfaction rating   \n",
       "4346  Average life satisfaction rating   \n",
       "...                                ...   \n",
       "4719  Average life satisfaction rating   \n",
       "4720  Average life satisfaction rating   \n",
       "4721  Average life satisfaction rating   \n",
       "4722  Average life satisfaction rating   \n",
       "4723  Average life satisfaction rating   \n",
       "\n",
       "                                               Category             Period  \\\n",
       "4342  Spreading opportunity and improving public ser...  04/2020 - 03/2021   \n",
       "4343  Spreading opportunity and improving public ser...  04/2020 - 03/2021   \n",
       "4344  Spreading opportunity and improving public ser...  04/2020 - 03/2021   \n",
       "4345  Spreading opportunity and improving public ser...  04/2020 - 03/2021   \n",
       "4346  Spreading opportunity and improving public ser...  04/2020 - 03/2021   \n",
       "...                                                 ...                ...   \n",
       "4719  Spreading opportunity and improving public ser...  04/2020 - 03/2021   \n",
       "4720  Spreading opportunity and improving public ser...  04/2020 - 03/2021   \n",
       "4721  Spreading opportunity and improving public ser...  04/2020 - 03/2021   \n",
       "4722  Spreading opportunity and improving public ser...  04/2020 - 03/2021   \n",
       "4723  Spreading opportunity and improving public ser...  04/2020 - 03/2021   \n",
       "\n",
       "     Measure Unit  Value  \n",
       "4342  Rating  NaN   7.33  \n",
       "4343  Rating  NaN   7.21  \n",
       "4344  Rating  NaN   7.44  \n",
       "4345  Rating  NaN   7.40  \n",
       "4346  Rating  NaN   7.25  \n",
       "...      ...  ...    ...  \n",
       "4719  Rating  NaN   7.34  \n",
       "4720  Rating  NaN   7.59  \n",
       "4721  Rating  NaN   7.28  \n",
       "4722  Rating  NaN   7.42  \n",
       "4723  Rating  NaN   7.33  \n",
       "\n",
       "[382 rows x 9 columns]"
      ]
     },
     "execution_count": 45,
     "metadata": {},
     "output_type": "execute_result"
    }
   ],
   "source": [
    "df_sats"
   ]
  },
  {
   "cell_type": "code",
   "execution_count": 46,
   "metadata": {},
   "outputs": [],
   "source": [
    "# drop nan\n",
    "df_sats = df_sats.dropna(subset=['Value'])"
   ]
  },
  {
   "cell_type": "code",
   "execution_count": 182,
   "metadata": {},
   "outputs": [],
   "source": [
    "# create list of values for satisfaction\n",
    "sats_list = df_sats[['Value']].values.tolist()"
   ]
  },
  {
   "cell_type": "code",
   "execution_count": 197,
   "metadata": {},
   "outputs": [],
   "source": [
    "# flatten out list of lists\n",
    "sats_list = [x for l in sats_list for x in l]"
   ]
  },
  {
   "cell_type": "code",
   "execution_count": 198,
   "metadata": {},
   "outputs": [
    {
     "data": {
      "text/plain": [
       "[7.33, 7.21, 7.44, 7.4, 7.25, 7.29, 7.21, 7.43, 7.16, 7.14]"
      ]
     },
     "execution_count": 198,
     "metadata": {},
     "output_type": "execute_result"
    }
   ],
   "source": [
    "sats_list[0:10]"
   ]
  },
  {
   "cell_type": "code",
   "execution_count": 384,
   "metadata": {},
   "outputs": [
    {
     "name": "stdout",
     "output_type": "stream",
     "text": [
      "[7.55, 7.61, 7.39, 7.3, 7.62, 7.18, 7.48, 7.48, 7.72, 7.22]\n",
      "[6.94, 7.38, 6.86, 7.77, 7.34, 7.73, 7.53, 7.35, 7.14, 7.3]\n"
     ]
    },
    {
     "data": {
      "text/plain": [
       "Ttest_indResult(statistic=-1.6340764228836846, pvalue=0.10265585281111766)"
      ]
     },
     "metadata": {},
     "output_type": "display_data"
    },
    {
     "data": {
      "image/png": "[encoded data removed]",
      "text/plain": [
       "<Figure size 432x288 with 1 Axes>"
      ]
     },
     "metadata": {
      "needs_background": "light"
     },
     "output_type": "display_data"
    }
   ],
   "source": [
    "# take samples\n",
    "n = 382\n",
    "sample_1 = []\n",
    "sample_2 = []\n",
    "for n in range(n):\n",
    "    random_int = random.randint(0,len(sats_list)-1)\n",
    "    while random_int in sample_1:\n",
    "        random_int = random.randint(0,len(sats_list)-1)\n",
    "    sample_1.append(sats_list[random_int])\n",
    "    random_int = random.randint(0,len(sats_list)-1)\n",
    "    while random_int in sample_2:\n",
    "        random_int = random.randint(0,len(sats_list)-1)\n",
    "    sample_2.append(sats_list[random_int])\n",
    "    \n",
    "print(sample_1[0:10])\n",
    "print(sample_2[0:10])\n",
    "\n",
    "# carry out t-test\n",
    "res = stats.ttest_ind(sample_1, sample_2, \n",
    "                      equal_var=True)\n",
    "\n",
    "display(res)\n",
    "\n",
    "data = [sample_1, sample_2]\n",
    "\n",
    "# Multiple box plots on one Axes\n",
    "fig, ax = plt.subplots()\n",
    "ax.boxplot(data)\n",
    "plt.show()"
   ]
  }
 ],
 "metadata": {
  "kernelspec": {
   "display_name": "Python 3",
   "language": "python",
   "name": "python3"
  },
  "language_info": {
   "codemirror_mode": {
    "name": "ipython",
    "version": 3
   },
   "file_extension": ".py",
   "mimetype": "text/x-python",
   "name": "python",
   "nbconvert_exporter": "python",
   "pygments_lexer": "ipython3",
   "version": "3.8.0"
  }
 },
 "nbformat": 4,
 "nbformat_minor": 4
}
