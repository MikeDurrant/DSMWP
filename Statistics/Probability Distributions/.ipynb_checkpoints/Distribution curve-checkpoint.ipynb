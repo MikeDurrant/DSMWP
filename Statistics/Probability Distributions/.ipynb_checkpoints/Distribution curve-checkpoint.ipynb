{
 "cells": [
  {
   "cell_type": "code",
   "execution_count": null,
   "metadata": {},
   "outputs": [],
   "source": [
    "# using ons regional statistics"
   ]
  },
  {
   "cell_type": "code",
   "execution_count": 54,
   "metadata": {},
   "outputs": [],
   "source": [
    "import pandas as pd\n",
    "import numpy as np\n",
    "import matplotlib.pyplot as plt\n",
    "from scipy.stats import norm"
   ]
  },
  {
   "cell_type": "code",
   "execution_count": 4,
   "metadata": {},
   "outputs": [],
   "source": [
    "df = pd.read_csv(r'C:\\Users\\mike_\\dev\\DataScienceMathsWithPython\\Statistics\\Data sources\\ONS_Regional.csv', skiprows=2, encoding= 'unicode_escape')"
   ]
  },
  {
   "cell_type": "code",
   "execution_count": 7,
   "metadata": {},
   "outputs": [
    {
     "data": {
      "text/plain": [
       "array(['Gross Value Added per hour worked', 'Gross median weekly pay',\n",
       "       'Employment rate for 16 to 64 year olds',\n",
       "       'Premises with gigabit capable broadband',\n",
       "       'Average travel time to nearest employment centre with 500 to 4999 jobs by public transport or walking',\n",
       "       'Average travel time to nearest employment centre with 500 to 4999 jobs by public transport by cycle',\n",
       "       'Average travel time to nearest employment centre with 500 to 4999 jobs by public transport by car',\n",
       "       'Female healthy life expectancy', 'Male healthy life expectancy',\n",
       "       'Adults that currently smoke cigarettes',\n",
       "       'Children (4 to 5 years old) overweight and obesity prevalance',\n",
       "       'Adult (18+) overweight and obesity prevalance',\n",
       "       \"5 year olds achieving 'expected level' on communication early learning goals\",\n",
       "       \"5 year olds achieving 'expected level' on literacy early learning goals\",\n",
       "       \"5 year olds achieving 'expected level' on maths early learning goals\",\n",
       "       'Average life satisfaction rating',\n",
       "       'Young people achieving GCSEs (and equivalent qualifications) in English and Maths by age 19',\n",
       "       'Schools and nurseries rated good or outstanding by OFSTED',\n",
       "       'Number of starts on apprenticeships',\n",
       "       'Number of completions on apprenticeships',\n",
       "       '4G coverage provided by at least one mobile network provider',\n",
       "       'Average feeling that things done in life are worthwhile rating',\n",
       "       'Average happiness rating', 'Average anxiety rating',\n",
       "       'Net additions to the housing stock'], dtype=object)"
      ]
     },
     "execution_count": 7,
     "metadata": {},
     "output_type": "execute_result"
    }
   ],
   "source": [
    "# view unique indicators to select one for distribution\n",
    "df['Indicator'].unique()"
   ]
  },
  {
   "cell_type": "code",
   "execution_count": 12,
   "metadata": {},
   "outputs": [],
   "source": [
    "# check out average life satisfaction rating\n",
    "df_sats = df[df['Indicator'] == 'Average life satisfaction rating']"
   ]
  },
  {
   "cell_type": "code",
   "execution_count": 23,
   "metadata": {},
   "outputs": [
    {
     "data": {
      "text/html": [
       "<div>\n",
       "<style scoped>\n",
       "    .dataframe tbody tr th:only-of-type {\n",
       "        vertical-align: middle;\n",
       "    }\n",
       "\n",
       "    .dataframe tbody tr th {\n",
       "        vertical-align: top;\n",
       "    }\n",
       "\n",
       "    .dataframe thead th {\n",
       "        text-align: right;\n",
       "    }\n",
       "</style>\n",
       "<table border=\"1\" class=\"dataframe\">\n",
       "  <thead>\n",
       "    <tr style=\"text-align: right;\">\n",
       "      <th></th>\n",
       "      <th>AREACD</th>\n",
       "      <th>AREANM</th>\n",
       "      <th>Tier</th>\n",
       "      <th>Indicator</th>\n",
       "      <th>Category</th>\n",
       "      <th>Period</th>\n",
       "      <th>Measure</th>\n",
       "      <th>Unit</th>\n",
       "      <th>Value</th>\n",
       "    </tr>\n",
       "  </thead>\n",
       "  <tbody>\n",
       "    <tr>\n",
       "      <th>4342</th>\n",
       "      <td>E06000001</td>\n",
       "      <td>Hartlepool</td>\n",
       "      <td>District/Unitary</td>\n",
       "      <td>Average life satisfaction rating</td>\n",
       "      <td>Spreading opportunity and improving public ser...</td>\n",
       "      <td>04/2020 - 03/2021</td>\n",
       "      <td>Rating</td>\n",
       "      <td>NaN</td>\n",
       "      <td>7.33</td>\n",
       "    </tr>\n",
       "    <tr>\n",
       "      <th>4343</th>\n",
       "      <td>E06000002</td>\n",
       "      <td>Middlesbrough</td>\n",
       "      <td>District/Unitary</td>\n",
       "      <td>Average life satisfaction rating</td>\n",
       "      <td>Spreading opportunity and improving public ser...</td>\n",
       "      <td>04/2020 - 03/2021</td>\n",
       "      <td>Rating</td>\n",
       "      <td>NaN</td>\n",
       "      <td>7.21</td>\n",
       "    </tr>\n",
       "    <tr>\n",
       "      <th>4344</th>\n",
       "      <td>E06000003</td>\n",
       "      <td>Redcar and Cleveland</td>\n",
       "      <td>District/Unitary</td>\n",
       "      <td>Average life satisfaction rating</td>\n",
       "      <td>Spreading opportunity and improving public ser...</td>\n",
       "      <td>04/2020 - 03/2021</td>\n",
       "      <td>Rating</td>\n",
       "      <td>NaN</td>\n",
       "      <td>7.44</td>\n",
       "    </tr>\n",
       "    <tr>\n",
       "      <th>4345</th>\n",
       "      <td>E06000004</td>\n",
       "      <td>Stockton-on-Tees</td>\n",
       "      <td>District/Unitary</td>\n",
       "      <td>Average life satisfaction rating</td>\n",
       "      <td>Spreading opportunity and improving public ser...</td>\n",
       "      <td>04/2020 - 03/2021</td>\n",
       "      <td>Rating</td>\n",
       "      <td>NaN</td>\n",
       "      <td>7.40</td>\n",
       "    </tr>\n",
       "    <tr>\n",
       "      <th>4346</th>\n",
       "      <td>E06000005</td>\n",
       "      <td>Darlington</td>\n",
       "      <td>District/Unitary</td>\n",
       "      <td>Average life satisfaction rating</td>\n",
       "      <td>Spreading opportunity and improving public ser...</td>\n",
       "      <td>04/2020 - 03/2021</td>\n",
       "      <td>Rating</td>\n",
       "      <td>NaN</td>\n",
       "      <td>7.25</td>\n",
       "    </tr>\n",
       "    <tr>\n",
       "      <th>...</th>\n",
       "      <td>...</td>\n",
       "      <td>...</td>\n",
       "      <td>...</td>\n",
       "      <td>...</td>\n",
       "      <td>...</td>\n",
       "      <td>...</td>\n",
       "      <td>...</td>\n",
       "      <td>...</td>\n",
       "      <td>...</td>\n",
       "    </tr>\n",
       "    <tr>\n",
       "      <th>4719</th>\n",
       "      <td>W06000020</td>\n",
       "      <td>Torfaen</td>\n",
       "      <td>District/Unitary</td>\n",
       "      <td>Average life satisfaction rating</td>\n",
       "      <td>Spreading opportunity and improving public ser...</td>\n",
       "      <td>04/2020 - 03/2021</td>\n",
       "      <td>Rating</td>\n",
       "      <td>NaN</td>\n",
       "      <td>7.34</td>\n",
       "    </tr>\n",
       "    <tr>\n",
       "      <th>4720</th>\n",
       "      <td>W06000021</td>\n",
       "      <td>Monmouthshire</td>\n",
       "      <td>District/Unitary</td>\n",
       "      <td>Average life satisfaction rating</td>\n",
       "      <td>Spreading opportunity and improving public ser...</td>\n",
       "      <td>04/2020 - 03/2021</td>\n",
       "      <td>Rating</td>\n",
       "      <td>NaN</td>\n",
       "      <td>7.59</td>\n",
       "    </tr>\n",
       "    <tr>\n",
       "      <th>4721</th>\n",
       "      <td>W06000022</td>\n",
       "      <td>Newport</td>\n",
       "      <td>District/Unitary</td>\n",
       "      <td>Average life satisfaction rating</td>\n",
       "      <td>Spreading opportunity and improving public ser...</td>\n",
       "      <td>04/2020 - 03/2021</td>\n",
       "      <td>Rating</td>\n",
       "      <td>NaN</td>\n",
       "      <td>7.28</td>\n",
       "    </tr>\n",
       "    <tr>\n",
       "      <th>4722</th>\n",
       "      <td>W06000023</td>\n",
       "      <td>Powys</td>\n",
       "      <td>District/Unitary</td>\n",
       "      <td>Average life satisfaction rating</td>\n",
       "      <td>Spreading opportunity and improving public ser...</td>\n",
       "      <td>04/2020 - 03/2021</td>\n",
       "      <td>Rating</td>\n",
       "      <td>NaN</td>\n",
       "      <td>7.42</td>\n",
       "    </tr>\n",
       "    <tr>\n",
       "      <th>4723</th>\n",
       "      <td>W06000024</td>\n",
       "      <td>Merthyr Tydfil</td>\n",
       "      <td>District/Unitary</td>\n",
       "      <td>Average life satisfaction rating</td>\n",
       "      <td>Spreading opportunity and improving public ser...</td>\n",
       "      <td>04/2020 - 03/2021</td>\n",
       "      <td>Rating</td>\n",
       "      <td>NaN</td>\n",
       "      <td>7.33</td>\n",
       "    </tr>\n",
       "  </tbody>\n",
       "</table>\n",
       "<p>382 rows × 9 columns</p>\n",
       "</div>"
      ],
      "text/plain": [
       "         AREACD                AREANM              Tier  \\\n",
       "4342  E06000001            Hartlepool  District/Unitary   \n",
       "4343  E06000002         Middlesbrough  District/Unitary   \n",
       "4344  E06000003  Redcar and Cleveland  District/Unitary   \n",
       "4345  E06000004      Stockton-on-Tees  District/Unitary   \n",
       "4346  E06000005            Darlington  District/Unitary   \n",
       "...         ...                   ...               ...   \n",
       "4719  W06000020               Torfaen  District/Unitary   \n",
       "4720  W06000021         Monmouthshire  District/Unitary   \n",
       "4721  W06000022               Newport  District/Unitary   \n",
       "4722  W06000023                 Powys  District/Unitary   \n",
       "4723  W06000024        Merthyr Tydfil  District/Unitary   \n",
       "\n",
       "                             Indicator  \\\n",
       "4342  Average life satisfaction rating   \n",
       "4343  Average life satisfaction rating   \n",
       "4344  Average life satisfaction rating   \n",
       "4345  Average life satisfaction rating   \n",
       "4346  Average life satisfaction rating   \n",
       "...                                ...   \n",
       "4719  Average life satisfaction rating   \n",
       "4720  Average life satisfaction rating   \n",
       "4721  Average life satisfaction rating   \n",
       "4722  Average life satisfaction rating   \n",
       "4723  Average life satisfaction rating   \n",
       "\n",
       "                                               Category             Period  \\\n",
       "4342  Spreading opportunity and improving public ser...  04/2020 - 03/2021   \n",
       "4343  Spreading opportunity and improving public ser...  04/2020 - 03/2021   \n",
       "4344  Spreading opportunity and improving public ser...  04/2020 - 03/2021   \n",
       "4345  Spreading opportunity and improving public ser...  04/2020 - 03/2021   \n",
       "4346  Spreading opportunity and improving public ser...  04/2020 - 03/2021   \n",
       "...                                                 ...                ...   \n",
       "4719  Spreading opportunity and improving public ser...  04/2020 - 03/2021   \n",
       "4720  Spreading opportunity and improving public ser...  04/2020 - 03/2021   \n",
       "4721  Spreading opportunity and improving public ser...  04/2020 - 03/2021   \n",
       "4722  Spreading opportunity and improving public ser...  04/2020 - 03/2021   \n",
       "4723  Spreading opportunity and improving public ser...  04/2020 - 03/2021   \n",
       "\n",
       "     Measure Unit  Value  \n",
       "4342  Rating  NaN   7.33  \n",
       "4343  Rating  NaN   7.21  \n",
       "4344  Rating  NaN   7.44  \n",
       "4345  Rating  NaN   7.40  \n",
       "4346  Rating  NaN   7.25  \n",
       "...      ...  ...    ...  \n",
       "4719  Rating  NaN   7.34  \n",
       "4720  Rating  NaN   7.59  \n",
       "4721  Rating  NaN   7.28  \n",
       "4722  Rating  NaN   7.42  \n",
       "4723  Rating  NaN   7.33  \n",
       "\n",
       "[382 rows x 9 columns]"
      ]
     },
     "execution_count": 23,
     "metadata": {},
     "output_type": "execute_result"
    }
   ],
   "source": [
    "df_sats"
   ]
  },
  {
   "cell_type": "code",
   "execution_count": 22,
   "metadata": {},
   "outputs": [
    {
     "data": {
      "text/plain": [
       "382"
      ]
     },
     "execution_count": 22,
     "metadata": {},
     "output_type": "execute_result"
    }
   ],
   "source": [
    "# unique values for AREANM - does this equal 382?\n",
    "df_sats['AREANM'].nunique()"
   ]
  },
  {
   "cell_type": "code",
   "execution_count": 26,
   "metadata": {},
   "outputs": [],
   "source": [
    "x = df_sats['Value']"
   ]
  },
  {
   "cell_type": "code",
   "execution_count": 31,
   "metadata": {},
   "outputs": [
    {
     "data": {
      "text/plain": [
       "(array([ 1.,  0.,  0.,  0.,  0.,  1.,  1.,  0.,  2.,  0.,  2.,  2.,  1.,\n",
       "         4.,  2.,  5., 16., 11., 15., 11., 10., 23., 23., 25., 18., 22.,\n",
       "        22., 20., 15., 24., 12., 14., 11., 14.,  5.,  6., 11.,  5.,  2.,\n",
       "         2.,  4.,  3.,  2.,  3.,  2.,  2.,  1.,  1.,  0.,  1.]),\n",
       " array([6.61  , 6.6412, 6.6724, 6.7036, 6.7348, 6.766 , 6.7972, 6.8284,\n",
       "        6.8596, 6.8908, 6.922 , 6.9532, 6.9844, 7.0156, 7.0468, 7.078 ,\n",
       "        7.1092, 7.1404, 7.1716, 7.2028, 7.234 , 7.2652, 7.2964, 7.3276,\n",
       "        7.3588, 7.39  , 7.4212, 7.4524, 7.4836, 7.5148, 7.546 , 7.5772,\n",
       "        7.6084, 7.6396, 7.6708, 7.702 , 7.7332, 7.7644, 7.7956, 7.8268,\n",
       "        7.858 , 7.8892, 7.9204, 7.9516, 7.9828, 8.014 , 8.0452, 8.0764,\n",
       "        8.1076, 8.1388, 8.17  ]),\n",
       " <a list of 50 Patch objects>)"
      ]
     },
     "execution_count": 31,
     "metadata": {},
     "output_type": "execute_result"
    },
    {
     "data": {
      "image/png": "[encoded data removed]",
      "text/plain": [
       "<Figure size 432x288 with 1 Axes>"
      ]
     },
     "metadata": {
      "needs_background": "light"
     },
     "output_type": "display_data"
    }
   ],
   "source": [
    "# view on histogram\n",
    "plt.hist(x, bins=50)"
   ]
  },
  {
   "cell_type": "code",
   "execution_count": 41,
   "metadata": {},
   "outputs": [
    {
     "data": {
      "text/plain": [
       "5"
      ]
     },
     "execution_count": 41,
     "metadata": {},
     "output_type": "execute_result"
    }
   ],
   "source": [
    "# check how many nulls\n",
    "x.isnull().sum()"
   ]
  },
  {
   "cell_type": "code",
   "execution_count": 43,
   "metadata": {},
   "outputs": [],
   "source": [
    "# drop nulls\n",
    "x_clean = x.dropna()"
   ]
  },
  {
   "cell_type": "code",
   "execution_count": 44,
   "metadata": {},
   "outputs": [],
   "source": [
    "# fit a normal distribution to the data\n",
    "mu, std = norm.fit(x_clean)"
   ]
  },
  {
   "cell_type": "code",
   "execution_count": 45,
   "metadata": {},
   "outputs": [
    {
     "data": {
      "text/plain": [
       "7.425968169761274"
      ]
     },
     "execution_count": 45,
     "metadata": {},
     "output_type": "execute_result"
    }
   ],
   "source": [
    "# what is the mean?\n",
    "mu"
   ]
  },
  {
   "cell_type": "code",
   "execution_count": 46,
   "metadata": {},
   "outputs": [
    {
     "data": {
      "text/plain": [
       "0.23325667842942618"
      ]
     },
     "execution_count": 46,
     "metadata": {},
     "output_type": "execute_result"
    }
   ],
   "source": [
    "# what is the standard deviation?\n",
    "std"
   ]
  },
  {
   "cell_type": "code",
   "execution_count": 66,
   "metadata": {},
   "outputs": [
    {
     "data": {
      "image/png": "[encoded data removed]",
      "text/plain": [
       "<Figure size 432x288 with 1 Axes>"
      ]
     },
     "metadata": {
      "needs_background": "light"
     },
     "output_type": "display_data"
    }
   ],
   "source": [
    "# plot the clean histogram\n",
    "plt.hist(x_clean, bins=50, density=True, alpha=0.6, color='b')\n",
    "\n",
    "\n",
    "\n",
    "# density - y axis gives the probability density instead of count\n",
    "        # density = counts / sum(counts) * np.diff(bins)\n",
    "# theory of probability density is that the area under the curve == 1\n",
    "\n",
    "\n",
    "# plot the pdf\n",
    "xmin, xmax = plt.xlim()\n",
    "x = np.linspace(xmin, xmax, 100)\n",
    "p = norm.pdf(x, mu, std)\n",
    "\n",
    "\n",
    "plt.plot(x, p, 'k', linewidth=2)\n",
    "\n",
    "# show the whole plot\n",
    "plt.show()\n"
   ]
  }
 ],
 "metadata": {
  "kernelspec": {
   "display_name": "Python 3",
   "language": "python",
   "name": "python3"
  },
  "language_info": {
   "codemirror_mode": {
    "name": "ipython",
    "version": 3
   },
   "file_extension": ".py",
   "mimetype": "text/x-python",
   "name": "python",
   "nbconvert_exporter": "python",
   "pygments_lexer": "ipython3",
   "version": "3.8.0"
  }
 },
 "nbformat": 4,
 "nbformat_minor": 4
}
