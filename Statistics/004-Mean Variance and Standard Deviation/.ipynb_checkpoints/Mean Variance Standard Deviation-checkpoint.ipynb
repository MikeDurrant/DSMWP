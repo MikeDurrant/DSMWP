{
 "cells": [
  {
   "cell_type": "markdown",
   "metadata": {},
   "source": [
    "# Basics of Mean Variance and Standard Deviation\n",
    "\n",
    "https://www.youtube.com/watch?v=SzZ6GpcfoQY&list=PLblh5JKOoLUK0FLuzwntyYI10UQFUhsY9&index=5\n",
    "\n",
    "## Mean (Sample estimate and Population actual)\n",
    "\n",
    "* use x_bar for sample mean\n",
    "\n",
    "* use mu for population mean\n",
    "\n",
    "* with more data x_bar gets closer to mu\n",
    "\n"
   ]
  },
  {
   "cell_type": "markdown",
   "metadata": {},
   "source": [
    "# Calculate (not estimate) population variance\n",
    "\n",
    "Population variance =   sum(x - mu)^2 / n\n",
    "\n",
    "Where:\n",
    "* x is individual data point\n",
    "* mu is population mean\n",
    "* n is total population size\n",
    "\n",
    "Also known as the average of the squared differences"
   ]
  },
  {
   "cell_type": "markdown",
   "metadata": {},
   "source": [
    "# Calculate (not estimate) the population standard deviation\n",
    "\n",
    "The variance is expressed in squared terms and is less useful and cannot be plotted with the actual thing being measured.\n",
    "\n",
    "E.g. If the population is apples, the variance might be 100 apples squared.\n",
    "\n",
    "The standard deviation solves this... by taking the square root."
   ]
  },
  {
   "cell_type": "markdown",
   "metadata": {},
   "source": [
    "# However - real world involves sampling... not population\n",
    "\n",
    "NB - the population variance and standard deviation determines how much the distribution curve spreads out\n",
    "\n",
    "## Estimated variance from a sample\n",
    "\n",
    "Estimated population variance = sum(x - x_bar)^2 / (n-1)\n",
    "\n",
    "* x_bar is the sample mean\n",
    "* Divide by n-1  >>> this compensates for the fact that we are measuring the differences from the sample mean, not the population mean - otherwise we would consistently underestimate the variance around the population mean\n",
    "\n",
    "## Estimated standard deviation\n",
    "\n",
    "Simply the square root of the estimated variance"
   ]
  }
 ],
 "metadata": {
  "kernelspec": {
   "display_name": "Python 3",
   "language": "python",
   "name": "python3"
  },
  "language_info": {
   "codemirror_mode": {
    "name": "ipython",
    "version": 3
   },
   "file_extension": ".py",
   "mimetype": "text/x-python",
   "name": "python",
   "nbconvert_exporter": "python",
   "pygments_lexer": "ipython3",
   "version": "3.8.0"
  }
 },
 "nbformat": 4,
 "nbformat_minor": 4
}
