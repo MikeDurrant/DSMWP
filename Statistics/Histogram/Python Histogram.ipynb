{
 "cells": [
  {
   "cell_type": "code",
   "execution_count": 8,
   "metadata": {},
   "outputs": [],
   "source": [
    "# simple histogram using numpy and matplotlib\n",
    "import numpy as np\n",
    "import matplotlib.pyplot as plt"
   ]
  },
  {
   "cell_type": "code",
   "execution_count": 2,
   "metadata": {},
   "outputs": [],
   "source": [
    "x = np.random.normal(150, 10, 200)"
   ]
  },
  {
   "cell_type": "code",
   "execution_count": 3,
   "metadata": {},
   "outputs": [
    {
     "name": "stdout",
     "output_type": "stream",
     "text": [
      "[144.12390713 135.19343853 125.86755015 157.44033323 149.85050305\n",
      " 138.27948786 146.54403392 147.07182397 147.31453919 146.95790709\n",
      " 152.37947134 140.71451359 157.25698703 142.67625841 137.79345952\n",
      " 144.68032498 152.61603112 157.28135389 159.07674893 133.83876368\n",
      " 155.15998311 143.7314222  149.31933641 153.9527756  160.85771392\n",
      " 157.40128558 150.12526264 154.52596264 144.5381783  149.00154519\n",
      " 159.27183133 153.23612883 163.29985897 134.67515583 151.4352662\n",
      " 142.89359442 142.79444056 161.32964908 146.35743203 135.3209889\n",
      " 154.0184922  144.31609085 154.86984106 147.49278674 165.57645675\n",
      " 170.14241386 149.55133788 149.2758532  144.20413337 150.14073738\n",
      " 166.19628166 142.57676122 145.01274733 139.78077698 144.59511797\n",
      " 155.89718507 147.80828602 155.48921809 148.90599402 143.80090975\n",
      " 146.75554658 148.22232311 149.2800909  135.32084473 147.82755483\n",
      " 164.10868902 156.40882089 156.7550304  152.9876066  176.01644725\n",
      " 147.60642502 133.20503343 158.29235029 161.67369312 146.83848239\n",
      " 142.70729388 160.6032707  146.2598491  159.46123333 141.18662453\n",
      " 145.42028366 137.86540451 164.13945849 137.1561363  157.38728754\n",
      " 148.901579   145.70627421 146.66056426 141.41623105 146.64542445\n",
      " 124.44371873 153.52898264 144.58217055 158.72362307 168.01898276\n",
      " 152.71937582 128.62715351 149.7608169  149.28997998 145.98393856\n",
      " 150.79800934 127.95882816 149.49357833 143.37280331 139.88962539\n",
      " 139.99370707 149.21206165 139.96756496 154.5156215  150.64374085\n",
      " 157.85631343 149.30435316 143.40816259 147.89669985 153.55229814\n",
      " 125.48425918 160.42654702 152.58288756 144.20853897 148.57412383\n",
      " 142.96434131 155.70456879 150.45934534 151.8492724  155.79725909\n",
      " 139.8080034  159.64872011 151.57582159 154.24296782 142.40443697\n",
      " 146.99947007 127.05616018 155.32780682 140.25681077 140.32709497\n",
      " 152.12079258 148.31436277 160.3001543  155.45887345 143.47007773\n",
      " 143.52354548 154.7810377  155.22609702 155.00694379 159.38426096\n",
      " 160.6931135  153.38120903 172.92250795 161.66287447 140.06446667\n",
      " 155.1194741  159.76366333 144.28095563 138.41483395 134.64781252\n",
      " 154.8075515  149.51389839 165.08388929 153.62893849 152.58150371\n",
      " 137.41557151 148.02148374 144.98948399 146.20030316 147.80063617\n",
      " 153.01514504 147.77162387 148.26820445 159.13725771 136.12970576\n",
      " 153.42411382 148.93121539 129.65841976 164.3934844  146.09966081\n",
      " 155.32968319 151.22418108 137.908698   146.36516374 140.87545923\n",
      " 129.35633279 173.82493118 157.02647668 138.34190356 132.72313349\n",
      " 153.42883032 143.74199702 143.13605775 153.12758229 157.94759697\n",
      " 158.53098088 142.27399119 158.94694614 143.94631248 149.74849502\n",
      " 130.60006424 154.16352921 160.93205706 159.14602005 144.67752269]\n"
     ]
    }
   ],
   "source": [
    "print(x)"
   ]
  },
  {
   "cell_type": "code",
   "execution_count": 4,
   "metadata": {},
   "outputs": [
    {
     "data": {
      "text/plain": [
       "200"
      ]
     },
     "execution_count": 4,
     "metadata": {},
     "output_type": "execute_result"
    }
   ],
   "source": [
    "len(x)"
   ]
  },
  {
   "cell_type": "code",
   "execution_count": 17,
   "metadata": {},
   "outputs": [
    {
     "data": {
      "text/plain": [
       "(array([ 3.,  4.,  2.,  5.,  5., 10., 11., 27., 19., 28., 13., 25., 15.,\n",
       "        14.,  7.,  6.,  2.,  1.,  1.,  2.]),\n",
       " array([124.44371873, 127.02235516, 129.60099158, 132.17962801,\n",
       "        134.75826444, 137.33690086, 139.91553729, 142.49417371,\n",
       "        145.07281014, 147.65144656, 150.23008299, 152.80871942,\n",
       "        155.38735584, 157.96599227, 160.54462869, 163.12326512,\n",
       "        165.70190155, 168.28053797, 170.8591744 , 173.43781082,\n",
       "        176.01644725]),\n",
       " <a list of 20 Patch objects>)"
      ]
     },
     "execution_count": 17,
     "metadata": {},
     "output_type": "execute_result"
    },
    {
     "data": {
      "image/png": "[encoded data removed]",
      "text/plain": [
       "<Figure size 432x288 with 1 Axes>"
      ]
     },
     "metadata": {
      "needs_background": "light"
     },
     "output_type": "display_data"
    }
   ],
   "source": [
    "plt.hist(x, bins=20)"
   ]
  },
  {
   "cell_type": "code",
   "execution_count": 12,
   "metadata": {},
   "outputs": [],
   "source": [
    "y = np.random.normal(150, 100, 200)"
   ]
  },
  {
   "cell_type": "code",
   "execution_count": 13,
   "metadata": {},
   "outputs": [
    {
     "data": {
      "text/plain": [
       "200"
      ]
     },
     "execution_count": 13,
     "metadata": {},
     "output_type": "execute_result"
    }
   ],
   "source": [
    "len(y)"
   ]
  },
  {
   "cell_type": "code",
   "execution_count": 18,
   "metadata": {},
   "outputs": [
    {
     "data": {
      "text/plain": [
       "(array([ 3.,  6.,  3.,  4.,  7., 10., 22., 22., 33., 28., 12., 13., 13.,\n",
       "         8.,  8.,  4.,  2.,  1.,  0.,  1.]),\n",
       " array([-102.17787144,  -73.44255204,  -44.70723265,  -15.97191325,\n",
       "          12.76340615,   41.49872554,   70.23404494,   98.96936433,\n",
       "         127.70468373,  156.44000312,  185.17532252,  213.91064191,\n",
       "         242.64596131,  271.3812807 ,  300.1166001 ,  328.85191949,\n",
       "         357.58723889,  386.32255828,  415.05787768,  443.79319707,\n",
       "         472.52851647]),\n",
       " <a list of 20 Patch objects>)"
      ]
     },
     "execution_count": 18,
     "metadata": {},
     "output_type": "execute_result"
    },
    {
     "data": {
      "image/png": "[encoded data removed]",
      "text/plain": [
       "<Figure size 432x288 with 1 Axes>"
      ]
     },
     "metadata": {
      "needs_background": "light"
     },
     "output_type": "display_data"
    }
   ],
   "source": [
    "plt.hist(y, bins=20)"
   ]
  }
 ],
 "metadata": {
  "kernelspec": {
   "display_name": "Python 3",
   "language": "python",
   "name": "python3"
  },
  "language_info": {
   "codemirror_mode": {
    "name": "ipython",
    "version": 3
   },
   "file_extension": ".py",
   "mimetype": "text/x-python",
   "name": "python",
   "nbconvert_exporter": "python",
   "pygments_lexer": "ipython3",
   "version": "3.8.0"
  }
 },
 "nbformat": 4,
 "nbformat_minor": 4
}
